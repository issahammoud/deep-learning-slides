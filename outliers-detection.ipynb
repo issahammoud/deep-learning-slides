{
  "cells": [
    {
      "cell_type": "markdown",
      "id": "4bd7c569",
      "metadata": {
        "id": "4bd7c569"
      },
      "source": [
        "# Imports"
      ]
    },
    {
      "cell_type": "code",
      "execution_count": null,
      "id": "d008007c",
      "metadata": {
        "id": "d008007c"
      },
      "outputs": [],
      "source": [
        "import cv2\n",
        "import numpy as np\n",
        "import seaborn as sns\n",
        "import matplotlib.pyplot as plt\n",
        "from sklearn.cluster import DBSCAN\n",
        "from sklearn.decomposition import PCA\n",
        "import tensorflow as tf\n",
        "\n",
        "sns.set()"
      ]
    },
    {
      "cell_type": "code",
      "source": [
        "from google.colab import drive\n",
        "drive.mount('/content/drive')"
      ],
      "metadata": {
        "id": "WlXk7fdcScdI"
      },
      "id": "WlXk7fdcScdI",
      "execution_count": null,
      "outputs": []
    },
    {
      "cell_type": "markdown",
      "id": "cc5463c4",
      "metadata": {
        "id": "cc5463c4"
      },
      "source": [
        "# Data Exploration\n",
        "\n",
        "<p>We will begin by exploring the data, and preparing an array of RGB and gray scale images to be used along the notebook</p>"
      ]
    },
    {
      "cell_type": "code",
      "execution_count": null,
      "id": "71a16b02",
      "metadata": {
        "id": "71a16b02"
      },
      "outputs": [],
      "source": [
        "frames = []\n",
        "gray_frames = []\n",
        "video = cv2.VideoCapture('drive/MyDrive/video.mp4')\n",
        "while video.isOpened():\n",
        "    ret, frame = video.read()\n",
        "    if ret == True:\n",
        "        gray_frame = cv2.cvtColor(frame,cv2.COLOR_BGR2GRAY)\n",
        "        rgb = cv2.cvtColor(frame,cv2.COLOR_BGR2RGB)\n",
        "        gray_frames.append(gray_frame)\n",
        "        frames.append(rgb)\n",
        "    else:\n",
        "        break\n",
        "video.release()\n",
        "\n",
        "frames = np.array(frames)\n",
        "gray_frames = np.array(gray_frames)"
      ]
    },
    {
      "cell_type": "code",
      "execution_count": null,
      "id": "b8964c1b",
      "metadata": {
        "id": "b8964c1b"
      },
      "outputs": [],
      "source": [
        "image_nb = frames.shape[0]\n",
        "image_shape = frames[0].shape\n",
        "assert np.all([x.shape==image_shape for x in frames])\n",
        "assert np.all([x.dtype==frames[0].dtype for x in frames])\n",
        "print(f\"{image_nb} frames found, each of type {frames[0].dtype} and shape {image_shape}.\")"
      ]
    },
    {
      "cell_type": "code",
      "execution_count": null,
      "id": "eeb614fb",
      "metadata": {
        "id": "eeb614fb"
      },
      "outputs": [],
      "source": [
        "def show(frames, figsize=(20,100)):\n",
        "    sns.reset_orig()\n",
        "    w = 3\n",
        "    h = int(np.ceil(frames.shape[0]/3))\n",
        "    fig, axs = plt.subplots(h, w, figsize=figsize)\n",
        "    fig.tight_layout()\n",
        "    for i,frame in enumerate(frames):\n",
        "        axs[i//3, i%3].set_title(f\"frame {i}\")\n",
        "        axs[i//3, i%3].imshow(frame)\n",
        "    plt.show()"
      ]
    },
    {
      "cell_type": "code",
      "execution_count": null,
      "id": "10e25678",
      "metadata": {
        "id": "10e25678"
      },
      "outputs": [],
      "source": [
        "show(frames)"
      ]
    },
    {
      "cell_type": "markdown",
      "id": "521a2b06",
      "metadata": {
        "id": "521a2b06"
      },
      "source": [
        "# Outlier Detection"
      ]
    },
    {
      "cell_type": "markdown",
      "id": "1c1395d8",
      "metadata": {
        "id": "1c1395d8"
      },
      "source": [
        "## PCA"
      ]
    },
    {
      "cell_type": "code",
      "execution_count": null,
      "id": "446f49f0",
      "metadata": {
        "id": "446f49f0"
      },
      "outputs": [],
      "source": [
        "pca = PCA(2)\n",
        "transformed_data = pca.fit_transform(gray_frames.reshape(gray_frames.shape[0],-1))\n",
        "print(f\"explained variace ratio: {np.sum(pca.explained_variance_ratio_)}\")"
      ]
    },
    {
      "cell_type": "code",
      "execution_count": null,
      "id": "3fea6ade",
      "metadata": {
        "id": "3fea6ade"
      },
      "outputs": [],
      "source": [
        "def scatter_plot_2d(data, figsize=(16,8), annotate=False, labels=None):\n",
        "    sns.set()\n",
        "    fig, ax = plt.subplots(figsize=figsize)\n",
        "\n",
        "    if labels is not None:\n",
        "        colormap = np.array(['yellow', 'green', 'blue','black','red'])\n",
        "        plt.scatter(data[:,0],data[:,1], marker=\"o\", c=colormap[labels])\n",
        "    else:\n",
        "        plt.scatter(data[:,0],data[:,1], marker=\"o\")\n",
        "    if annotate:\n",
        "        for i,xy in enumerate(data):\n",
        "            ax.annotate(str(i), xy=(xy[0],xy[1]), fontsize=10)\n",
        "    plt.show()"
      ]
    },
    {
      "cell_type": "code",
      "execution_count": null,
      "id": "528b46f6",
      "metadata": {
        "id": "528b46f6"
      },
      "outputs": [],
      "source": [
        "scatter_plot_2d(transformed_data)"
      ]
    },
    {
      "cell_type": "markdown",
      "id": "c9990c43",
      "metadata": {
        "id": "c9990c43"
      },
      "source": [
        "## DBSCAN"
      ]
    },
    {
      "cell_type": "code",
      "source": [
        "plt.hist(np.sqrt(((transformed_data - np.expand_dims(transformed_data, axis=1))**2).sum(-1)).flatten(), bins=30)\n",
        "plt.show()"
      ],
      "metadata": {
        "id": "VhV9wlYXVhog"
      },
      "id": "VhV9wlYXVhog",
      "execution_count": null,
      "outputs": []
    },
    {
      "cell_type": "code",
      "execution_count": null,
      "id": "20ef1526",
      "metadata": {
        "id": "20ef1526"
      },
      "outputs": [],
      "source": [
        "clustering = DBSCAN(eps=10000, n_jobs=-1).fit(transformed_data)\n",
        "labels = clustering.labels_\n",
        "unique_labels = np.unique(labels)"
      ]
    },
    {
      "cell_type": "code",
      "execution_count": null,
      "id": "d52ef1ed",
      "metadata": {
        "id": "d52ef1ed"
      },
      "outputs": [],
      "source": [
        "print(f\"\"\"We found {unique_labels.shape[0]} clusters, where outliers get the cluster -1.\n",
        "The clusters indices are: {tuple(unique_labels)}.\n",
        "There are {np.sum(labels==-1)} outliers.\"\"\")"
      ]
    },
    {
      "cell_type": "code",
      "execution_count": null,
      "id": "efb18429",
      "metadata": {
        "scrolled": true,
        "id": "efb18429"
      },
      "outputs": [],
      "source": [
        "show(frames[labels==-1], figsize=(20,10))"
      ]
    },
    {
      "cell_type": "code",
      "execution_count": null,
      "id": "6b04aa08",
      "metadata": {
        "id": "6b04aa08"
      },
      "outputs": [],
      "source": [
        "clean_frames = frames[labels!=-1]\n",
        "clean_gray_frames = gray_frames[labels!=-1]\n",
        "clean_transformed_data = transformed_data[labels!=-1]"
      ]
    },
    {
      "cell_type": "code",
      "execution_count": null,
      "id": "7f3a2d08",
      "metadata": {
        "id": "7f3a2d08"
      },
      "outputs": [],
      "source": [
        "scatter_plot_2d(clean_transformed_data)"
      ]
    },
    {
      "cell_type": "markdown",
      "source": [
        "# Plot the cumulative variance w.r.t number of components"
      ],
      "metadata": {
        "id": "FuYS44sFWbQV"
      },
      "id": "FuYS44sFWbQV"
    },
    {
      "cell_type": "code",
      "execution_count": null,
      "id": "042c0ec4",
      "metadata": {
        "id": "042c0ec4"
      },
      "outputs": [],
      "source": [
        "pca = PCA()\n",
        "\n",
        "pca.fit(gray_frames.reshape(gray_frames.shape[0],-1))\n",
        "cumsum = np.cumsum(pca.explained_variance_ratio_)"
      ]
    },
    {
      "cell_type": "code",
      "execution_count": null,
      "id": "2198ba5a",
      "metadata": {
        "id": "2198ba5a"
      },
      "outputs": [],
      "source": [
        "sns.set()\n",
        "plt.figure(figsize=(12,8))\n",
        "plt.title(\"Cumulative variance ratio w.r.t to components numer\")\n",
        "plt.xlabel(\"Components\")\n",
        "plt.ylabel(\"variance ratio\")\n",
        "plt.plot(np.arange(gray_frames.shape[0]),cumsum)\n",
        "plt.show()"
      ]
    },
    {
      "cell_type": "markdown",
      "id": "30749988",
      "metadata": {
        "id": "30749988"
      },
      "source": [
        "## Dimensionality Reduction with Pretrained Network\n",
        "\n",
        "---\n",
        "\n"
      ]
    },
    {
      "cell_type": "code",
      "execution_count": null,
      "id": "42ad9e71",
      "metadata": {
        "id": "42ad9e71"
      },
      "outputs": [],
      "source": [
        "image_shape = frames[0].shape\n",
        "extractor = tf.keras.applications.ConvNeXtXLarge(\n",
        "    model_name=\"convnext_xlarge\",\n",
        "    include_top=False,\n",
        "    include_preprocessing=True,\n",
        "    weights=\"imagenet\",\n",
        "    pooling='avg',\n",
        "    input_shape=image_shape)"
      ]
    },
    {
      "cell_type": "code",
      "execution_count": null,
      "id": "10148e1c",
      "metadata": {
        "id": "10148e1c"
      },
      "outputs": [],
      "source": [
        "output = extractor.predict(frames, batch_size=1)"
      ]
    },
    {
      "cell_type": "code",
      "source": [
        "output.shape"
      ],
      "metadata": {
        "id": "cbGd5kyxXBK2"
      },
      "id": "cbGd5kyxXBK2",
      "execution_count": null,
      "outputs": []
    },
    {
      "cell_type": "code",
      "source": [
        "plt.hist(np.sqrt(((output - np.expand_dims(output, axis=1))**2).sum(-1)).flatten(), bins=30)\n",
        "plt.show()"
      ],
      "metadata": {
        "id": "vi5iSrrgW_so"
      },
      "id": "vi5iSrrgW_so",
      "execution_count": null,
      "outputs": []
    },
    {
      "cell_type": "code",
      "execution_count": null,
      "id": "fc208de9",
      "metadata": {
        "id": "fc208de9"
      },
      "outputs": [],
      "source": [
        "clustering = DBSCAN(eps=10, n_jobs=-1).fit(output)\n",
        "labels = clustering.labels_\n",
        "show(frames[labels==-1], figsize=(20,10))"
      ]
    },
    {
      "cell_type": "code",
      "execution_count": null,
      "id": "e6675678",
      "metadata": {
        "id": "e6675678"
      },
      "outputs": [],
      "source": []
    }
  ],
  "metadata": {
    "kernelspec": {
      "display_name": "Python 3",
      "name": "python3"
    },
    "language_info": {
      "codemirror_mode": {
        "name": "ipython",
        "version": 3
      },
      "file_extension": ".py",
      "mimetype": "text/x-python",
      "name": "python",
      "nbconvert_exporter": "python",
      "pygments_lexer": "ipython3",
      "version": "3.6.13"
    },
    "colab": {
      "provenance": [],
      "gpuType": "T4"
    },
    "accelerator": "GPU"
  },
  "nbformat": 4,
  "nbformat_minor": 5
}